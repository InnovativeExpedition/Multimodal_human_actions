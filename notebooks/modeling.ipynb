{
 "cells": [
  {
   "cell_type": "code",
   "execution_count": 1,
   "metadata": {},
   "outputs": [
    {
     "data": {
      "text/plain": [
       "'/home/renjie/Documents/MTech/AY1819Sem1/KE5208_SenseMakingAndInsightsDiscovery/CA'"
      ]
     },
     "execution_count": 1,
     "metadata": {},
     "output_type": "execute_result"
    }
   ],
   "source": [
    "import os\n",
    "os.chdir(os.path.join(os.getcwd(), '..'))\n",
    "os.getcwd()"
   ]
  },
  {
   "cell_type": "code",
   "execution_count": 2,
   "metadata": {},
   "outputs": [
    {
     "name": "stderr",
     "output_type": "stream",
     "text": [
      "/home/renjie/anaconda3/lib/python3.6/site-packages/h5py/__init__.py:36: FutureWarning: Conversion of the second argument of issubdtype from `float` to `np.floating` is deprecated. In future, it will be treated as `np.float64 == np.dtype(float).type`.\n",
      "  from ._conv import register_converters as _register_converters\n",
      "Using TensorFlow backend.\n"
     ]
    }
   ],
   "source": [
    "from src.utils import get_dataset\n",
    "from src.utils import select_data\n",
    "import scipy.io as sio\n",
    "import numpy as np\n",
    "\n",
    "from keras.utils import to_categorical\n",
    "from keras.preprocessing import sequence\n",
    "from keras.models import Sequential\n",
    "from keras.layers import LSTM\n",
    "from keras.layers import Dense"
   ]
  },
  {
   "cell_type": "code",
   "execution_count": 3,
   "metadata": {},
   "outputs": [],
   "source": [
    "DATA_PATH = os.path.join(os.getcwd(), 'data')\n",
    "depth_path, inertial_path, skeleton_path = get_dataset(DATA_PATH)"
   ]
  },
  {
   "cell_type": "code",
   "execution_count": 4,
   "metadata": {},
   "outputs": [],
   "source": [
    "activities = list(range(1,28))"
   ]
  },
  {
   "cell_type": "code",
   "execution_count": 5,
   "metadata": {},
   "outputs": [],
   "source": [
    "def select_subject(d_path, subject):\n",
    "    select_statement = '_s{}_'.format(subject)\n",
    "    subjects = []\n",
    "    for i in d_path:\n",
    "        if select_statement in i:\n",
    "            subjects.append(i)\n",
    "    return subjects"
   ]
  },
  {
   "cell_type": "code",
   "execution_count": 6,
   "metadata": {},
   "outputs": [],
   "source": [
    "def get_action_number(single_path):\n",
    "    return int(single_path.split('/')[-1].split('_')[0][1:])\n",
    "def get_subject_number(single_path):\n",
    "    return int(single_path.split('/')[-1].split('_')[1][1:])\n",
    "def get_trial_number(single_path):\n",
    "    return int(single_path.split('/')[-1].split('_')[2][1:])\n"
   ]
  },
  {
   "cell_type": "code",
   "execution_count": 7,
   "metadata": {},
   "outputs": [],
   "source": [
    "def pad_len_inertial(inertial_d):\n",
    "    inertial_d = np.swapaxes(inertial_d, 0,1)\n",
    "    inertial_d = sequence.pad_sequences(inertial_d, maxlen=326)\n",
    "    inertial_d = np.swapaxes(inertial_d, 0,1)\n",
    "    return inertial_d"
   ]
  },
  {
   "cell_type": "code",
   "execution_count": 8,
   "metadata": {},
   "outputs": [
    {
     "data": {
      "text/plain": [
       "((646, 326, 6), (646, 27), (215, 326, 6), (215, 27))"
      ]
     },
     "execution_count": 8,
     "metadata": {},
     "output_type": "execute_result"
    }
   ],
   "source": [
    "# train on subject 1,2,3,5,6,7\n",
    "# test on subject 4,8\n",
    "X_train = []\n",
    "Y_train = []\n",
    "X_test = []\n",
    "Y_test = []\n",
    "\n",
    "for path in inertial_path:\n",
    "    if get_subject_number(path) in [1,2,3,5,6,7]:\n",
    "        X_train.append(path)\n",
    "        Y_train.append(get_action_number(path))\n",
    "    else:\n",
    "        X_test.append(path)\n",
    "        Y_test.append(get_action_number(path))\n",
    "\n",
    "X_train = [pad_len_inertial(sio.loadmat(x)['d_iner']) for x in X_train]\n",
    "X_test = [pad_len_inertial(sio.loadmat(x)['d_iner']) for x in X_test]\n",
    "\n",
    "X_train = np.array(X_train)\n",
    "X_test = np.array(X_test)\n",
    "\n",
    "Y_train = to_categorical(np.array(Y_train) - 1)\n",
    "Y_test = to_categorical(np.array(Y_test) - 1)\n",
    "\n",
    "X_train.shape, Y_train.shape, X_test.shape, Y_test.shape"
   ]
  },
  {
   "cell_type": "markdown",
   "metadata": {},
   "source": [
    "# Model"
   ]
  },
  {
   "cell_type": "code",
   "execution_count": 9,
   "metadata": {},
   "outputs": [
    {
     "name": "stdout",
     "output_type": "stream",
     "text": [
      "_________________________________________________________________\n",
      "Layer (type)                 Output Shape              Param #   \n",
      "=================================================================\n",
      "lstm_1 (LSTM)                (None, 200)               165600    \n",
      "_________________________________________________________________\n",
      "dense_1 (Dense)              (None, 27)                5427      \n",
      "=================================================================\n",
      "Total params: 171,027\n",
      "Trainable params: 171,027\n",
      "Non-trainable params: 0\n",
      "_________________________________________________________________\n",
      "None\n"
     ]
    }
   ],
   "source": [
    "np.random.seed(7)\n",
    "model = Sequential()\n",
    "model.add(LSTM(200, input_shape=(326, 6)))\n",
    "model.add(Dense(len(activities), activation='softmax'))\n",
    "model.compile(loss='categorical_crossentropy', optimizer='sgd', metrics=['accuracy'])\n",
    "print(model.summary())"
   ]
  },
  {
   "cell_type": "code",
   "execution_count": null,
   "metadata": {},
   "outputs": [
    {
     "name": "stdout",
     "output_type": "stream",
     "text": [
      "Epoch 1/100\n",
      "646/646 [==============================] - 125s 193ms/step - loss: 2.0956 - acc: 0.3483\n",
      "Epoch 2/100\n",
      "646/646 [==============================] - 136s 210ms/step - loss: 1.9700 - acc: 0.4149\n",
      "Epoch 3/100\n",
      "646/646 [==============================] - 132s 204ms/step - loss: 1.9108 - acc: 0.4102\n",
      "Epoch 4/100\n",
      "646/646 [==============================] - 115s 178ms/step - loss: 1.8930 - acc: 0.4226\n",
      "Epoch 5/100\n",
      "646/646 [==============================] - 118s 183ms/step - loss: 1.8134 - acc: 0.4613\n",
      "Epoch 6/100\n",
      "646/646 [==============================] - 117s 181ms/step - loss: 2.2001 - acc: 0.3808\n",
      "Epoch 7/100\n",
      "646/646 [==============================] - 141s 218ms/step - loss: 2.6042 - acc: 0.2198\n",
      "Epoch 8/100\n",
      "646/646 [==============================] - 143s 222ms/step - loss: 2.2910 - acc: 0.3344\n",
      "Epoch 9/100\n",
      "646/646 [==============================] - 143s 222ms/step - loss: 2.1557 - acc: 0.3514\n",
      "Epoch 10/100\n",
      "646/646 [==============================] - 143s 222ms/step - loss: 2.0085 - acc: 0.4133\n",
      "Epoch 11/100\n",
      "646/646 [==============================] - 143s 221ms/step - loss: 1.8203 - acc: 0.4520\n",
      "Epoch 12/100\n",
      "646/646 [==============================] - 164s 254ms/step - loss: 1.6729 - acc: 0.5093\n",
      "Epoch 13/100\n",
      "646/646 [==============================] - 128s 198ms/step - loss: 1.5798 - acc: 0.5341\n",
      "Epoch 14/100\n",
      "646/646 [==============================] - 136s 210ms/step - loss: 1.4497 - acc: 0.5867\n",
      "Epoch 15/100\n",
      "646/646 [==============================] - 126s 194ms/step - loss: 1.3790 - acc: 0.5944\n",
      "Epoch 16/100\n",
      "646/646 [==============================] - 145s 224ms/step - loss: 1.2732 - acc: 0.6269\n",
      "Epoch 17/100\n",
      "646/646 [==============================] - 148s 230ms/step - loss: 1.1788 - acc: 0.6811\n",
      "Epoch 18/100\n",
      "646/646 [==============================] - 134s 207ms/step - loss: 1.1636 - acc: 0.6904\n",
      "Epoch 19/100\n",
      "646/646 [==============================] - 131s 203ms/step - loss: 1.0642 - acc: 0.7059\n",
      "Epoch 20/100\n",
      "646/646 [==============================] - 134s 207ms/step - loss: 0.9693 - acc: 0.7307\n",
      "Epoch 21/100\n",
      "646/646 [==============================] - 154s 239ms/step - loss: 0.8777 - acc: 0.7523\n",
      "Epoch 22/100\n",
      "646/646 [==============================] - 153s 238ms/step - loss: 0.8675 - acc: 0.7724\n",
      "Epoch 23/100\n",
      "646/646 [==============================] - 124s 192ms/step - loss: 0.7571 - acc: 0.8080\n",
      "Epoch 24/100\n",
      "646/646 [==============================] - 133s 206ms/step - loss: 0.6500 - acc: 0.8483\n",
      "Epoch 25/100\n",
      "646/646 [==============================] - 128s 198ms/step - loss: 0.5691 - acc: 0.8746\n",
      "Epoch 26/100\n",
      "646/646 [==============================] - 150s 233ms/step - loss: 0.5687 - acc: 0.8777\n",
      "Epoch 27/100\n",
      "646/646 [==============================] - 153s 236ms/step - loss: 0.5949 - acc: 0.8545\n",
      "Epoch 28/100\n",
      "646/646 [==============================] - 150s 233ms/step - loss: 0.4843 - acc: 0.8978\n",
      "Epoch 29/100\n",
      "646/646 [==============================] - 152s 235ms/step - loss: 0.4372 - acc: 0.9040\n",
      "Epoch 30/100\n",
      "646/646 [==============================] - 142s 219ms/step - loss: 0.3847 - acc: 0.9211\n",
      "Epoch 31/100\n",
      "632/646 [============================>.] - ETA: 2s - loss: 0.3287 - acc: 0.9367"
     ]
    }
   ],
   "source": [
    "history = model.fit(X_train, Y_train, epochs=100, batch_size=1)"
   ]
  },
  {
   "cell_type": "code",
   "execution_count": null,
   "metadata": {},
   "outputs": [],
   "source": []
  },
  {
   "cell_type": "code",
   "execution_count": null,
   "metadata": {},
   "outputs": [],
   "source": []
  },
  {
   "cell_type": "code",
   "execution_count": 11,
   "metadata": {},
   "outputs": [
    {
     "data": {
      "text/plain": [
       "(326, 6)"
      ]
     },
     "execution_count": 11,
     "metadata": {},
     "output_type": "execute_result"
    }
   ],
   "source": [
    "X_train[0].shape"
   ]
  },
  {
   "cell_type": "code",
   "execution_count": null,
   "metadata": {},
   "outputs": [],
   "source": []
  }
 ],
 "metadata": {
  "kernelspec": {
   "display_name": "Python 3",
   "language": "python",
   "name": "python3"
  },
  "language_info": {
   "codemirror_mode": {
    "name": "ipython",
    "version": 3
   },
   "file_extension": ".py",
   "mimetype": "text/x-python",
   "name": "python",
   "nbconvert_exporter": "python",
   "pygments_lexer": "ipython3",
   "version": "3.6.4"
  }
 },
 "nbformat": 4,
 "nbformat_minor": 2
}
