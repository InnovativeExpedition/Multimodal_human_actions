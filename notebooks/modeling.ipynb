{
 "cells": [
  {
   "cell_type": "code",
   "execution_count": 1,
   "metadata": {},
   "outputs": [
    {
     "data": {
      "text/plain": [
       "'/home/renjie/Documents/MTech/AY1819Sem1/KE5208_SenseMakingAndInsightsDiscovery/CA'"
      ]
     },
     "execution_count": 1,
     "metadata": {},
     "output_type": "execute_result"
    }
   ],
   "source": [
    "import os\n",
    "os.chdir(os.path.join(os.getcwd(), '..'))\n",
    "os.getcwd()"
   ]
  },
  {
   "cell_type": "code",
   "execution_count": 30,
   "metadata": {},
   "outputs": [],
   "source": [
    "from src.utils import get_dataset\n",
    "from src.utils import select_data\n",
    "\n",
    "import scipy.io as sio\n",
    "import numpy as np\n",
    "import matplotlib.pyplot as plt\n",
    "from sklearn.metrics import confusion_matrix\n",
    "\n",
    "from keras.utils import to_categorical\n",
    "from keras.preprocessing import sequence\n",
    "from keras.models import Sequential\n",
    "from keras.layers import LSTM\n",
    "from keras.layers import Dense\n",
    "from keras.optimizers import Adam\n",
    "from keras.callbacks import TensorBoard\n",
    "from keras.callbacks import ModelCheckpoint"
   ]
  },
  {
   "cell_type": "code",
   "execution_count": 3,
   "metadata": {},
   "outputs": [],
   "source": [
    "DATA_PATH = os.path.join(os.getcwd(), 'data')\n",
    "depth_path, inertial_path, skeleton_path = get_dataset(DATA_PATH)"
   ]
  },
  {
   "cell_type": "code",
   "execution_count": 4,
   "metadata": {},
   "outputs": [],
   "source": [
    "activities = list(range(1,28))"
   ]
  },
  {
   "cell_type": "code",
   "execution_count": 5,
   "metadata": {},
   "outputs": [],
   "source": [
    "def select_subject(d_path, subject):\n",
    "    select_statement = '_s{}_'.format(subject)\n",
    "    subjects = []\n",
    "    for i in d_path:\n",
    "        if select_statement in i:\n",
    "            subjects.append(i)\n",
    "    return subjects"
   ]
  },
  {
   "cell_type": "code",
   "execution_count": 6,
   "metadata": {},
   "outputs": [],
   "source": [
    "def get_action_number(single_path):\n",
    "    return int(single_path.split('/')[-1].split('_')[0][1:])\n",
    "def get_subject_number(single_path):\n",
    "    return int(single_path.split('/')[-1].split('_')[1][1:])\n",
    "def get_trial_number(single_path):\n",
    "    return int(single_path.split('/')[-1].split('_')[2][1:])\n"
   ]
  },
  {
   "cell_type": "code",
   "execution_count": 7,
   "metadata": {},
   "outputs": [],
   "source": [
    "def pad_len_inertial(inertial_d):\n",
    "    inertial_d = np.swapaxes(inertial_d, 0,1)\n",
    "    inertial_d = sequence.pad_sequences(inertial_d, maxlen=326)\n",
    "    inertial_d = np.swapaxes(inertial_d, 0,1)\n",
    "    return inertial_d"
   ]
  },
  {
   "cell_type": "code",
   "execution_count": 8,
   "metadata": {},
   "outputs": [
    {
     "data": {
      "text/plain": [
       "((431, 326, 6), (431, 27), (430, 326, 6), (430, 27))"
      ]
     },
     "execution_count": 8,
     "metadata": {},
     "output_type": "execute_result"
    }
   ],
   "source": [
    "# train on subject 1,2,3,5,6,7\n",
    "# test on subject 4,8\n",
    "X_train = []\n",
    "Y_train = []\n",
    "X_test = []\n",
    "Y_test = []\n",
    "\n",
    "for path in inertial_path:\n",
    "    if get_subject_number(path) in [1,3,5,7]:\n",
    "        X_train.append(path)\n",
    "        Y_train.append(get_action_number(path))\n",
    "    else:\n",
    "        X_test.append(path)\n",
    "        Y_test.append(get_action_number(path))\n",
    "\n",
    "X_train = [pad_len_inertial(sio.loadmat(x)['d_iner']) for x in X_train]\n",
    "X_test = [pad_len_inertial(sio.loadmat(x)['d_iner']) for x in X_test]\n",
    "\n",
    "X_train = np.array(X_train)\n",
    "X_test = np.array(X_test)\n",
    "\n",
    "Y_train = to_categorical(np.array(Y_train) - 1)\n",
    "Y_test = to_categorical(np.array(Y_test) - 1)\n",
    "\n",
    "X_train.shape, Y_train.shape, X_test.shape, Y_test.shape"
   ]
  },
  {
   "cell_type": "markdown",
   "metadata": {},
   "source": [
    "# Model"
   ]
  },
  {
   "cell_type": "code",
   "execution_count": 9,
   "metadata": {},
   "outputs": [],
   "source": [
    "import keras.backend as K\n",
    "\n",
    "\n",
    "def f1(y_true, y_pred):\n",
    "    '''\n",
    "    Calculates the F1 by using keras.backend\n",
    "    '''\n",
    "    true_positives = K.sum(K.round(K.clip(y_true * y_pred, 0, 1)))\n",
    "    possible_positives = K.sum(K.round(K.clip(y_true, 0, 1)))\n",
    "    predicted_positives = K.sum(K.round(K.clip(y_pred, 0, 1)))\n",
    "\n",
    "    def recall(y_true, y_pred):\n",
    "        \"\"\"Recall metric.\n",
    "        Only computes a batch-wise average of recall.\n",
    "        Computes the recall, a metric for multi-label classification of\n",
    "        how many relevant items are selected.\n",
    "        \"\"\"\n",
    "        recall = true_positives / (possible_positives + K.epsilon())\n",
    "        return recall\n",
    "\n",
    "    def precision(y_true, y_pred):\n",
    "        \"\"\"Precision metric.\n",
    "        Only computes a batch-wise average of precision.\n",
    "        Computes the precision, a metric for multi-label classification of\n",
    "        how many selected items are relevant.\n",
    "        \"\"\"\n",
    "        precision = true_positives / (predicted_positives + K.epsilon())\n",
    "        return precision\n",
    "\n",
    "    precision = precision(y_true, y_pred)\n",
    "    recall = recall(y_true, y_pred)\n",
    "#     print(\"precision: \", precision)\n",
    "#     print(\"recall: \", recall)\n",
    "    return 2 * ((precision * recall) / (precision + recall))"
   ]
  },
  {
   "cell_type": "code",
   "execution_count": 14,
   "metadata": {},
   "outputs": [
    {
     "name": "stdout",
     "output_type": "stream",
     "text": [
      "_________________________________________________________________\n",
      "Layer (type)                 Output Shape              Param #   \n",
      "=================================================================\n",
      "lstm_2 (LSTM)                (None, 100)               42800     \n",
      "_________________________________________________________________\n",
      "dense_2 (Dense)              (None, 27)                2727      \n",
      "=================================================================\n",
      "Total params: 45,527\n",
      "Trainable params: 45,527\n",
      "Non-trainable params: 0\n",
      "_________________________________________________________________\n",
      "None\n"
     ]
    }
   ],
   "source": [
    "np.random.seed(7)\n",
    "model = Sequential(name = 'simple_LSTM')\n",
    "model.add(LSTM(100, input_shape=(326, 6)))\n",
    "model.add(Dense(len(activities), activation='softmax'))\n",
    "model.compile(loss='categorical_crossentropy', optimizer=Adam(lr=1e-3), metrics=['accuracy', 'mse',f1])\n",
    "print(model.summary())"
   ]
  },
  {
   "cell_type": "code",
   "execution_count": 15,
   "metadata": {},
   "outputs": [],
   "source": [
    "LOG_DIR = os.path.join(os.getcwd(), 'logs')\n",
    "tb = TensorBoard(LOG_DIR)"
   ]
  },
  {
   "cell_type": "code",
   "execution_count": 17,
   "metadata": {},
   "outputs": [],
   "source": [
    "weights_dir = 'weights/' + model.name + \\\n",
    "            '-{epoch:02d}-{loss:.2f}.hdf5'\n",
    "chkpt = ModelCheckpoint(filepath=weights_dir, monitor='loss', save_best_only=True, save_weights_only=True, mode='auto', period=1)"
   ]
  },
  {
   "cell_type": "code",
   "execution_count": 18,
   "metadata": {
    "scrolled": true
   },
   "outputs": [
    {
     "name": "stdout",
     "output_type": "stream",
     "text": [
      "Train on 431 samples, validate on 430 samples\n",
      "Epoch 1/10\n",
      "431/431 [==============================] - 18s 43ms/step - loss: 3.2862 - acc: 0.0557 - mean_squared_error: 0.0356 - f1: nan - val_loss: 3.2468 - val_acc: 0.0814 - val_mean_squared_error: 0.0355 - val_f1: nan\n",
      "Epoch 2/10\n",
      "431/431 [==============================] - 19s 44ms/step - loss: 2.8616 - acc: 0.1856 - mean_squared_error: 0.0340 - f1: nan - val_loss: 3.0870 - val_acc: 0.1116 - val_mean_squared_error: 0.0350 - val_f1: nan\n",
      "Epoch 3/10\n",
      "431/431 [==============================] - 17s 40ms/step - loss: 2.5531 - acc: 0.2459 - mean_squared_error: 0.0326 - f1: nan - val_loss: 3.0995 - val_acc: 0.1093 - val_mean_squared_error: 0.0350 - val_f1: nan\n",
      "Epoch 4/10\n",
      "431/431 [==============================] - 22s 50ms/step - loss: 2.3595 - acc: 0.2877 - mean_squared_error: 0.0313 - f1: nan - val_loss: 3.0721 - val_acc: 0.1140 - val_mean_squared_error: 0.0352 - val_f1: nan\n",
      "Epoch 5/10\n",
      "431/431 [==============================] - 22s 50ms/step - loss: 2.1227 - acc: 0.3457 - mean_squared_error: 0.0297 - f1: nan - val_loss: 3.1430 - val_acc: 0.1186 - val_mean_squared_error: 0.0356 - val_f1: nan\n",
      "Epoch 6/10\n",
      "431/431 [==============================] - 21s 48ms/step - loss: 1.8967 - acc: 0.4362 - mean_squared_error: 0.0278 - f1: nan - val_loss: 3.1086 - val_acc: 0.1186 - val_mean_squared_error: 0.0355 - val_f1: nan\n",
      "Epoch 7/10\n",
      "431/431 [==============================] - 21s 49ms/step - loss: 1.7077 - acc: 0.4733 - mean_squared_error: 0.0257 - f1: nan - val_loss: 3.2761 - val_acc: 0.1163 - val_mean_squared_error: 0.0364 - val_f1: nan\n",
      "Epoch 8/10\n",
      "431/431 [==============================] - 21s 49ms/step - loss: 1.5524 - acc: 0.5522 - mean_squared_error: 0.0240 - f1: nan - val_loss: 3.2392 - val_acc: 0.1395 - val_mean_squared_error: 0.0362 - val_f1: nan\n",
      "Epoch 9/10\n",
      "431/431 [==============================] - 21s 49ms/step - loss: 1.3742 - acc: 0.6056 - mean_squared_error: 0.0215 - f1: nan - val_loss: 3.4146 - val_acc: 0.1372 - val_mean_squared_error: 0.0367 - val_f1: nan\n",
      "Epoch 10/10\n",
      "431/431 [==============================] - 21s 49ms/step - loss: 1.2361 - acc: 0.6821 - mean_squared_error: 0.0195 - f1: nan - val_loss: 3.4429 - val_acc: 0.1326 - val_mean_squared_error: 0.0370 - val_f1: nan\n"
     ]
    }
   ],
   "source": [
    "history = model.fit(X_train, Y_train, epochs=10, batch_size=4, validation_data = (X_test, Y_test), callbacks=[tb, chkpt])"
   ]
  },
  {
   "cell_type": "markdown",
   "metadata": {},
   "source": [
    "# Evaluation"
   ]
  },
  {
   "cell_type": "code",
   "execution_count": 20,
   "metadata": {},
   "outputs": [
    {
     "name": "stdout",
     "output_type": "stream",
     "text": [
      "431/431 [==============================] - 1s 2ms/step\n"
     ]
    },
    {
     "data": {
      "text/plain": [
       "[1.1371730279756533,\n",
       " 0.735498840460368,\n",
       " 0.018117026233583206,\n",
       " 0.4864450796505138]"
      ]
     },
     "execution_count": 20,
     "metadata": {},
     "output_type": "execute_result"
    }
   ],
   "source": [
    "model.evaluate(X_train, Y_train)"
   ]
  },
  {
   "cell_type": "code",
   "execution_count": 21,
   "metadata": {},
   "outputs": [
    {
     "name": "stdout",
     "output_type": "stream",
     "text": [
      "430/430 [==============================] - 1s 2ms/step\n"
     ]
    },
    {
     "data": {
      "text/plain": [
       "[3.4428918583448542, 0.13255813981211462, 0.037044613496508706, nan]"
      ]
     },
     "execution_count": 21,
     "metadata": {},
     "output_type": "execute_result"
    }
   ],
   "source": [
    "model.evaluate(X_test, Y_test)"
   ]
  },
  {
   "cell_type": "code",
   "execution_count": 60,
   "metadata": {},
   "outputs": [],
   "source": [
    "pred_1 = np.argmax(model.predict(X_train), axis = -1)"
   ]
  },
  {
   "cell_type": "code",
   "execution_count": 61,
   "metadata": {},
   "outputs": [],
   "source": [
    "class_labels = ['swipe to the left',\n",
    "               'swipe to the right',\n",
    "               'wave',\n",
    "               'front clap',\n",
    "               'throw',\n",
    "               'cross arms',\n",
    "               'basketball shoot',\n",
    "               'draw x',\n",
    "               'draw circle (CW)',\n",
    "               'draw circle (CCW)',\n",
    "               'draw triangle',\n",
    "               'bowling',\n",
    "               'boxing',\n",
    "               'baseball swing',\n",
    "               'tennis swing',\n",
    "               'arm curl',\n",
    "               'tennis serve',\n",
    "               'two hand push',\n",
    "               'knock door',\n",
    "               'catch',\n",
    "               'pick and throw',\n",
    "               'jogging',\n",
    "               'walking',\n",
    "               'sit to stand',\n",
    "               'stand to sit',\n",
    "               'forward lunge',\n",
    "               'squat']"
   ]
  },
  {
   "cell_type": "code",
   "execution_count": 62,
   "metadata": {},
   "outputs": [
    {
     "data": {
      "image/png": "[encoded data removed]",
      "text/plain": [
       "<Figure size 864x864 with 1 Axes>"
      ]
     },
     "metadata": {},
     "output_type": "display_data"
    }
   ],
   "source": [
    "confusion_1 = confusion_matrix(np.argmax(Y_train, axis = -1), pred_1)\n",
    "NUM_LABELS = 27\n",
    "\n",
    "f, axes = plt.subplots(1,1, figsize = (12,12))\n",
    "axes.set_xlabel('Actual')\n",
    "axes.set_ylabel('Predicted')\n",
    "axes.grid(False)\n",
    "axes.set_xticklabels(class_labels, rotation = 90)\n",
    "axes.set_yticklabels(class_labels)\n",
    "axes.set_yticks(list(range(27)))\n",
    "axes.set_xticks(list(range(27)))\n",
    "plt.imshow(confusion_1, cmap=plt.cm.Set2, interpolation='nearest')\n",
    "\n",
    "for i, cas in enumerate(confusion_1):\n",
    "    for j, count in enumerate(cas):\n",
    "        if count > 0:\n",
    "            xoff = .07 * len(str(count))\n",
    "            plt.text(j-xoff, i+.2, int(count), fontsize=12, color='black')"
   ]
  },
  {
   "cell_type": "markdown",
   "metadata": {},
   "source": [
    "# Seeing if there is a bug"
   ]
  },
  {
   "cell_type": "code",
   "execution_count": null,
   "metadata": {},
   "outputs": [],
   "source": [
    "for i in range(len(inertial_path)):\n",
    "    test = sio.loadmat(inertial_path[i])['d_iner']\n",
    "    test = np.expand_dims(np.swapaxes(sequence.pad_sequences(np.swapaxes(test,1,0), maxlen= 326), 1, 0), axis =0)\n",
    "    pred = model.predict(test)\n",
    "    print(np.argmax(pred, axis = -1) + 1, get_action_number(inertial_path[i]))"
   ]
  },
  {
   "cell_type": "code",
   "execution_count": null,
   "metadata": {},
   "outputs": [],
   "source": [
    "num = 810"
   ]
  },
  {
   "cell_type": "code",
   "execution_count": null,
   "metadata": {},
   "outputs": [],
   "source": [
    "test = sio.loadmat(inertial_path[num])['d_iner']"
   ]
  },
  {
   "cell_type": "code",
   "execution_count": null,
   "metadata": {},
   "outputs": [],
   "source": [
    "test = np.expand_dims(np.swapaxes(sequence.pad_sequences(np.swapaxes(test,1,0), maxlen= 326), 1, 0), axis =0)"
   ]
  },
  {
   "cell_type": "code",
   "execution_count": null,
   "metadata": {},
   "outputs": [],
   "source": [
    "pred = model.predict(test)"
   ]
  },
  {
   "cell_type": "code",
   "execution_count": null,
   "metadata": {},
   "outputs": [],
   "source": [
    "np.argmax(pred, axis = -1), inertial_path[num].split('/')[-1]"
   ]
  },
  {
   "cell_type": "code",
   "execution_count": null,
   "metadata": {},
   "outputs": [],
   "source": []
  }
 ],
 "metadata": {
  "kernelspec": {
   "display_name": "Python 3",
   "language": "python",
   "name": "python3"
  },
  "language_info": {
   "codemirror_mode": {
    "name": "ipython",
    "version": 3
   },
   "file_extension": ".py",
   "mimetype": "text/x-python",
   "name": "python",
   "nbconvert_exporter": "python",
   "pygments_lexer": "ipython3",
   "version": "3.6.4"
  }
 },
 "nbformat": 4,
 "nbformat_minor": 2
}
