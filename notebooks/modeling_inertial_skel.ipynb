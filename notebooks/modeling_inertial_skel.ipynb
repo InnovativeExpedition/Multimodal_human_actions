{
 "cells": [
  {
   "cell_type": "code",
   "execution_count": 1,
   "metadata": {},
   "outputs": [
    {
     "data": {
      "text/plain": [
       "'/home/renjie/Documents/MTech/AY1819Sem1/KE5208_SenseMakingAndInsightsDiscovery/CA'"
      ]
     },
     "execution_count": 1,
     "metadata": {},
     "output_type": "execute_result"
    }
   ],
   "source": [
    "import os\n",
    "os.chdir(os.path.join(os.getcwd(), '..'))\n",
    "os.getcwd()"
   ]
  },
  {
   "cell_type": "code",
   "execution_count": 2,
   "metadata": {},
   "outputs": [
    {
     "name": "stderr",
     "output_type": "stream",
     "text": [
      "/home/renjie/anaconda3/lib/python3.6/site-packages/h5py/__init__.py:36: FutureWarning: Conversion of the second argument of issubdtype from `float` to `np.floating` is deprecated. In future, it will be treated as `np.float64 == np.dtype(float).type`.\n",
      "  from ._conv import register_converters as _register_converters\n",
      "Using TensorFlow backend.\n"
     ]
    }
   ],
   "source": [
    "from src.utils import get_dataset\n",
    "from src.utils import select_data\n",
    "\n",
    "import scipy.io as sio\n",
    "from scipy.signal import resample\n",
    "import numpy as np\n",
    "import matplotlib.pyplot as plt\n",
    "from sklearn.metrics import confusion_matrix\n",
    "\n",
    "from keras.utils import to_categorical\n",
    "\n",
    "from keras.preprocessing import sequence\n",
    "\n",
    "from keras.models import Sequential\n",
    "from keras.models import Model\n",
    "\n",
    "from keras.layers import Input\n",
    "from keras.layers import LSTM\n",
    "from keras.layers import Dense\n",
    "from keras.layers import Flatten\n",
    "from keras.layers import Bidirectional\n",
    "from keras.layers import Dropout\n",
    "from keras.layers import Conv1D\n",
    "from keras.layers import MaxPooling1D\n",
    "from keras.layers import UpSampling1D\n",
    "from keras.layers import Concatenate\n",
    "\n",
    "from keras.optimizers import Adam\n",
    "\n",
    "from keras.callbacks import EarlyStopping\n",
    "from keras.callbacks import TensorBoard\n",
    "from keras.callbacks import ModelCheckpoint"
   ]
  },
  {
   "cell_type": "code",
   "execution_count": 3,
   "metadata": {},
   "outputs": [
    {
     "data": {
      "text/plain": [
       "['Depth', 'RGB_images', 'Inertial', 'Skeleton', 'RGB', 'Depth_numpy']"
      ]
     },
     "execution_count": 3,
     "metadata": {},
     "output_type": "execute_result"
    }
   ],
   "source": [
    "DATA_PATH = os.path.join(os.getcwd(), 'data')\n",
    "os.listdir(DATA_PATH)"
   ]
  },
  {
   "cell_type": "code",
   "execution_count": 6,
   "metadata": {},
   "outputs": [],
   "source": [
    "depth_path, _,inertial_path, skeleton_path,rgb_path,_ = get_dataset(DATA_PATH)"
   ]
  },
  {
   "cell_type": "code",
   "execution_count": 7,
   "metadata": {},
   "outputs": [],
   "source": [
    "activities = list(range(1,28))"
   ]
  },
  {
   "cell_type": "code",
   "execution_count": 8,
   "metadata": {},
   "outputs": [],
   "source": [
    "def select_subject(d_path, subject):\n",
    "    select_statement = '_s{}_'.format(subject)\n",
    "    subjects = []\n",
    "    for i in d_path:\n",
    "        if select_statement in i:\n",
    "            subjects.append(i)\n",
    "    return subjects"
   ]
  },
  {
   "cell_type": "code",
   "execution_count": 9,
   "metadata": {},
   "outputs": [],
   "source": [
    "def get_action_number(single_path):\n",
    "    return int(single_path.split('/')[-1].split('_')[0][1:])\n",
    "def get_subject_number(single_path):\n",
    "    return int(single_path.split('/')[-1].split('_')[1][1:])\n",
    "def get_trial_number(single_path):\n",
    "    return int(single_path.split('/')[-1].split('_')[2][1:])"
   ]
  },
  {
   "cell_type": "code",
   "execution_count": 10,
   "metadata": {},
   "outputs": [
    {
     "data": {
      "text/plain": [
       "((431, 180, 6), (431, 27), (430, 180, 6), (430, 27))"
      ]
     },
     "execution_count": 10,
     "metadata": {},
     "output_type": "execute_result"
    }
   ],
   "source": [
    "# Inertial\n",
    "\n",
    "# train on subject 1,3,5,7\n",
    "# test on subject 2,4,6,8\n",
    "X_train_iner = []\n",
    "Y_train_iner = []\n",
    "X_test_iner = []\n",
    "Y_test_iner = []\n",
    "\n",
    "resample_len = 180\n",
    "\n",
    "for path in inertial_path:\n",
    "    if get_subject_number(path) in [1,3,5,7]:\n",
    "        X_train_iner.append(path)\n",
    "        Y_train_iner.append(get_action_number(path))\n",
    "    else:\n",
    "        X_test_iner.append(path)\n",
    "        Y_test_iner.append(get_action_number(path))\n",
    "\n",
    "# X_train_iner = [pad_len_inertial(sio.loadmat(x)['d_iner']) for x in X_train_iner]\n",
    "# X_test_iner = [pad_len_inertial(sio.loadmat(x)['d_iner']) for x in X_test_iner]\n",
    "\n",
    "X_train_iner = [resample(sio.loadmat(x)['d_iner'], resample_len) for x in X_train_iner]\n",
    "X_test_iner = [resample(sio.loadmat(x)['d_iner'], resample_len) for x in X_test_iner]\n",
    "\n",
    "\n",
    "X_train_iner = np.array(X_train_iner)\n",
    "X_test_iner = np.array(X_test_iner)\n",
    "\n",
    "Y_train_iner = to_categorical(np.array(Y_train_iner) - 1)\n",
    "Y_test_iner = to_categorical(np.array(Y_test_iner) - 1)\n",
    "\n",
    "##################\n",
    "# normalize data #\n",
    "##################\n",
    "\n",
    "# X_train_iner[:,:,3:] = X_train_iner[:,:,3:]/ max(X_train_iner[:,:,3:].max(), abs(X_train_iner[:,:,3:].min()))\n",
    "# X_train_iner[:,:,:3] = X_train_iner[:,:,:3]/ max(X_train_iner[:,:,:3].max(), abs(X_train_iner[:,:,:3].min()))\n",
    "\n",
    "# X_test_iner[:,:,3:] = X_test_iner[:,:,3:]/ max(X_test_iner[:,:,3:].max(), abs(X_test_iner[:,:,3:].min()))\n",
    "# X_test_iner[:,:,:3] = X_test_iner[:,:,:3]/ max(X_test_iner[:,:,:3].max(), abs(X_test_iner[:,:,:3].min()))\n",
    "\n",
    "X_train_iner.shape, Y_train_iner.shape, X_test_iner.shape, Y_test_iner.shape"
   ]
  },
  {
   "cell_type": "code",
   "execution_count": 11,
   "metadata": {},
   "outputs": [
    {
     "data": {
      "text/plain": [
       "((431, 180, 60), (431, 27), (430, 180, 60), (430, 27))"
      ]
     },
     "execution_count": 11,
     "metadata": {},
     "output_type": "execute_result"
    }
   ],
   "source": [
    "# Skel \n",
    "# train on subject 1,3,5,7\n",
    "# test on subject 2,4,6,8\n",
    "X_train_skel = []\n",
    "Y_train_skel = []\n",
    "X_test_skel = []\n",
    "Y_test_skel = []\n",
    "\n",
    "resample_len = 180\n",
    "\n",
    "for path in skeleton_path:\n",
    "    if get_subject_number(path) in [1,3,5,7]:\n",
    "        X_train_skel.append(path)\n",
    "        Y_train_skel.append(get_action_number(path))\n",
    "    else:\n",
    "        X_test_skel.append(path)\n",
    "        Y_test_skel.append(get_action_number(path))\n",
    "\n",
    "# X_train_skel = [pad_len_inertial(sio.loadmat(x)['d_iner']) for x in X_train_skel]\n",
    "# X_test_skel = [pad_len_inertial(sio.loadmat(x)['d_iner']) for x in X_test_skel]\n",
    "\n",
    "X_train_skel = [np.reshape(resample(sio.loadmat(x)['d_skel'], resample_len, axis = -1), (60,180)) for x in X_train_skel]\n",
    "X_test_skel = [np.reshape(resample(sio.loadmat(x)['d_skel'], resample_len, axis = -1), (60,180)) for x in X_test_skel]\n",
    "\n",
    "\n",
    "X_train_skel = np.array(X_train_skel)\n",
    "X_test_skel = np.array(X_test_skel)\n",
    "\n",
    "X_train_skel = np.swapaxes(X_train_skel, 1,2)\n",
    "X_test_skel = np.swapaxes(X_test_skel, 1,2)\n",
    "\n",
    "Y_train_skel = to_categorical(np.array(Y_train_skel) - 1)\n",
    "Y_test_skel = to_categorical(np.array(Y_test_skel) - 1)\n",
    "\n",
    "X_train_skel.shape, Y_train_skel.shape, X_test_skel.shape, Y_test_skel.shape"
   ]
  },
  {
   "cell_type": "code",
   "execution_count": 12,
   "metadata": {},
   "outputs": [
    {
     "data": {
      "text/plain": [
       "((431, 180, 66), (431, 27), (430, 180, 66), (430, 27))"
      ]
     },
     "execution_count": 12,
     "metadata": {},
     "output_type": "execute_result"
    }
   ],
   "source": [
    "X_train = np.concatenate((X_train_iner, X_train_skel), axis = -1)\n",
    "X_test = np.concatenate((X_test_iner, X_test_skel), axis = -1)\n",
    "\n",
    "Y_train = Y_train_iner\n",
    "Y_test = Y_test_iner\n",
    "\n",
    "X_train.shape, Y_train.shape, X_test.shape, Y_test.shape"
   ]
  },
  {
   "cell_type": "markdown",
   "metadata": {},
   "source": [
    "# Model"
   ]
  },
  {
   "cell_type": "code",
   "execution_count": 13,
   "metadata": {},
   "outputs": [],
   "source": [
    "def conv_LSTM2():\n",
    "    # Create the model\n",
    "    np.random.seed(7)\n",
    "    optimizer = Adam(lr=1e-4)\n",
    "    model = Sequential(name = 'conv_LSTM2')\n",
    "    model.add(Conv1D(16,\n",
    "                     3,\n",
    "                     padding='same',\n",
    "                     activation='relu',\n",
    "                     strides=1,\n",
    "                     kernel_initializer = 'glorot_uniform',\n",
    "                    input_shape=(180, 66)))\n",
    "    model.add(Conv1D(32,\n",
    "                     3,\n",
    "                     padding='same',\n",
    "                     activation='relu',\n",
    "                     strides=1,\n",
    "                    kernel_initializer = 'glorot_uniform'))\n",
    "    model.add(MaxPooling1D(pool_size=2))\n",
    "    model.add(Conv1D(64,\n",
    "                     3,\n",
    "                     padding='same',\n",
    "                     activation='relu',\n",
    "                     strides=1,\n",
    "                    kernel_initializer = 'glorot_uniform'))\n",
    "    model.add(Conv1D(128,\n",
    "                     3,\n",
    "                     padding='same',\n",
    "                     activation='relu',\n",
    "                     strides=1,\n",
    "                    kernel_initializer = 'glorot_uniform'))\n",
    "    model.add(MaxPooling1D(pool_size=2))\n",
    "    model.add(LSTM(256, return_sequences=True, dropout=0.5, recurrent_dropout=0.5))\n",
    "    model.add(LSTM(512, return_sequences=True, dropout=0.5, recurrent_dropout=0.5))\n",
    "    model.add(Flatten())\n",
    "    model.add(Dropout(0.5))\n",
    "    model.add(Dense(len(activities), activation='softmax'))\n",
    "    model.compile(loss='categorical_crossentropy', optimizer=optimizer, metrics=['accuracy'])\n",
    "    print(model.summary())\n",
    "    return model"
   ]
  },
  {
   "cell_type": "code",
   "execution_count": 22,
   "metadata": {},
   "outputs": [],
   "source": [
    "def UNet_LSTM():\n",
    "    optimizer = Adam(lr=1e-4)\n",
    "    inputs = Input((180, 66))\n",
    "  \n",
    "  # encoding phase\n",
    "    conv1 = Conv1D(32,\n",
    "                 3,\n",
    "                 padding='same',\n",
    "                 activation='relu',\n",
    "                 strides=1,\n",
    "                 kernel_initializer = 'glorot_uniform')(inputs)\n",
    "    conv2 = Conv1D(32,\n",
    "                 3,\n",
    "                 padding='same',\n",
    "                 activation='relu',\n",
    "                 strides=1,\n",
    "                 kernel_initializer = 'glorot_uniform')(conv1)\n",
    "    pool1 = MaxPooling1D(pool_size = 2)(conv2) # 90\n",
    "\n",
    "    conv3 = Conv1D(64,\n",
    "                 3,\n",
    "                 padding='same',\n",
    "                 activation='relu',\n",
    "                 strides=1,\n",
    "                 kernel_initializer = 'glorot_uniform')(pool1)\n",
    "    conv4 = Conv1D(64,\n",
    "                 3,\n",
    "                 padding='same',\n",
    "                 activation='relu',\n",
    "                 strides=1,\n",
    "                 kernel_initializer = 'glorot_uniform')(conv3)\n",
    "    pool2 = MaxPooling1D(pool_size = 2)(conv4) # 45\n",
    "\n",
    "    #   conv5 = Conv1D(128,\n",
    "    #                  3,\n",
    "    #                  padding='same',\n",
    "    #                  activation='relu',\n",
    "    #                  strides=1,\n",
    "    #                  kernel_initializer = 'glorot_uniform')(pool2)\n",
    "    #   conv6 = Conv1D(128,\n",
    "    #                  3,\n",
    "    #                  padding='same',\n",
    "    #                  activation='relu',\n",
    "    #                  strides=1,\n",
    "    #                  kernel_initializer = 'glorot_uniform')(conv5)\n",
    "    #   pool3 = MaxPooling1D(pool_size = 2)(conv6) # \n",
    "\n",
    "    # middle phase\n",
    "    conv7 = Conv1D(128,\n",
    "                 3,\n",
    "                 padding='same',\n",
    "                 activation='relu',\n",
    "                 strides=1,\n",
    "                 kernel_initializer = 'glorot_uniform')(pool2)\n",
    "    conv8 = Conv1D(128,\n",
    "                 3,\n",
    "                 padding='same',\n",
    "                 activation='relu',\n",
    "                 strides=1,\n",
    "                 kernel_initializer = 'glorot_uniform')(conv7)\n",
    "    drop1 = Dropout(0.5)(conv8)\n",
    "\n",
    "    # decoding phase\n",
    "    #   up1 = Conv1D(128,\n",
    "    #                  2,\n",
    "    #                  padding='same',\n",
    "    #                  activation='relu',\n",
    "    #                  strides=1,\n",
    "    #                  kernel_initializer = 'glorot_uniform')(UpSampling1D(size = 2)(drop1))\n",
    "    #   concat1 = Concatenate(axis=-1)([conv6, up1])\n",
    "    #   conv9 = Conv1D(128,\n",
    "    #                  3,\n",
    "    #                  padding='same',\n",
    "    #                  activation='relu',\n",
    "    #                  strides=1,\n",
    "    #                  kernel_initializer = 'glorot_uniform')(UpSampling1D(size = 2)(concat1))\n",
    "    #   conv10 = Conv1D(128,\n",
    "    #                  3,\n",
    "    #                  padding='same',\n",
    "    #                  activation='relu',\n",
    "    #                  strides=1,\n",
    "    #                  kernel_initializer = 'glorot_uniform')(UpSampling1D(size = 2)(conv9))\n",
    "\n",
    "    up2 = Conv1D(64,\n",
    "               2,\n",
    "               padding='same',\n",
    "               activation='relu',\n",
    "               strides=1,\n",
    "               kernel_initializer = 'glorot_uniform')(UpSampling1D(size = 2)(drop1))\n",
    "    concat2 = Concatenate(axis=-1)([conv4, up2])\n",
    "    conv11 = Conv1D(64,\n",
    "                 3,\n",
    "                 padding='same',\n",
    "                 activation='relu',\n",
    "                 strides=1,\n",
    "                 kernel_initializer = 'glorot_uniform')(concat2)\n",
    "    conv12 = Conv1D(64,\n",
    "                 3,\n",
    "                 padding='same',\n",
    "                 activation='relu',\n",
    "                 strides=1,\n",
    "                 kernel_initializer = 'glorot_uniform')(conv11)\n",
    "\n",
    "    up3 = Conv1D(32,\n",
    "               2,\n",
    "               padding='same',\n",
    "               activation='relu',\n",
    "               strides=1,\n",
    "               kernel_initializer = 'glorot_uniform')(UpSampling1D(size = 2)(conv12))\n",
    "    concat3 = Concatenate(axis=-1)([conv2, up3])\n",
    "    conv13 = Conv1D(32,\n",
    "                 3,\n",
    "                 padding='same',\n",
    "                 activation='relu',\n",
    "                 strides=1,\n",
    "                 kernel_initializer = 'glorot_uniform')(concat3)\n",
    "    conv14 = Conv1D(128,\n",
    "                 3,\n",
    "                 padding='same',\n",
    "                 activation='relu',\n",
    "                 strides=1,\n",
    "                 kernel_initializer = 'glorot_uniform')(conv13)\n",
    "\n",
    "    # classification Level\n",
    "    lstm1 = LSTM(256, return_sequences=True, dropout=0.5, recurrent_dropout=0.5)(conv14)\n",
    "    lstm2 = LSTM(512, return_sequences=True, dropout=0.5, recurrent_dropout=0.5)(lstm1)\n",
    "    flat1 = Flatten()(lstm2)\n",
    "\n",
    "    dense1 = Dense(len(activities), activation='softmax')(flat1)\n",
    "\n",
    "    model = Model(input = inputs, output = dense1, name = 'UNet_LSTM')\n",
    "    model.compile(loss='categorical_crossentropy', optimizer=optimizer, metrics=['accuracy'])\n",
    "    print(model.summary())\n",
    "    return model\n"
   ]
  },
  {
   "cell_type": "code",
   "execution_count": 23,
   "metadata": {},
   "outputs": [
    {
     "name": "stdout",
     "output_type": "stream",
     "text": [
      "__________________________________________________________________________________________________\n",
      "Layer (type)                    Output Shape         Param #     Connected to                     \n",
      "==================================================================================================\n",
      "input_1 (InputLayer)            (None, 180, 66)      0                                            \n",
      "__________________________________________________________________________________________________\n",
      "conv1d_5 (Conv1D)               (None, 180, 32)      6368        input_1[0][0]                    \n",
      "__________________________________________________________________________________________________\n",
      "conv1d_6 (Conv1D)               (None, 180, 32)      3104        conv1d_5[0][0]                   \n",
      "__________________________________________________________________________________________________\n",
      "max_pooling1d_3 (MaxPooling1D)  (None, 90, 32)       0           conv1d_6[0][0]                   \n",
      "__________________________________________________________________________________________________\n",
      "conv1d_7 (Conv1D)               (None, 90, 64)       6208        max_pooling1d_3[0][0]            \n",
      "__________________________________________________________________________________________________\n",
      "conv1d_8 (Conv1D)               (None, 90, 64)       12352       conv1d_7[0][0]                   \n",
      "__________________________________________________________________________________________________\n",
      "max_pooling1d_4 (MaxPooling1D)  (None, 45, 64)       0           conv1d_8[0][0]                   \n",
      "__________________________________________________________________________________________________\n",
      "conv1d_9 (Conv1D)               (None, 45, 128)      24704       max_pooling1d_4[0][0]            \n",
      "__________________________________________________________________________________________________\n",
      "conv1d_10 (Conv1D)              (None, 45, 128)      49280       conv1d_9[0][0]                   \n",
      "__________________________________________________________________________________________________\n",
      "dropout_2 (Dropout)             (None, 45, 128)      0           conv1d_10[0][0]                  \n",
      "__________________________________________________________________________________________________\n",
      "up_sampling1d_1 (UpSampling1D)  (None, 90, 128)      0           dropout_2[0][0]                  \n",
      "__________________________________________________________________________________________________\n",
      "conv1d_11 (Conv1D)              (None, 90, 64)       16448       up_sampling1d_1[0][0]            \n",
      "__________________________________________________________________________________________________\n",
      "concatenate_1 (Concatenate)     (None, 90, 128)      0           conv1d_8[0][0]                   \n",
      "                                                                 conv1d_11[0][0]                  \n",
      "__________________________________________________________________________________________________\n",
      "conv1d_12 (Conv1D)              (None, 90, 64)       24640       concatenate_1[0][0]              \n",
      "__________________________________________________________________________________________________\n",
      "conv1d_13 (Conv1D)              (None, 90, 64)       12352       conv1d_12[0][0]                  \n",
      "__________________________________________________________________________________________________\n",
      "up_sampling1d_2 (UpSampling1D)  (None, 180, 64)      0           conv1d_13[0][0]                  \n",
      "__________________________________________________________________________________________________\n",
      "conv1d_14 (Conv1D)              (None, 180, 32)      4128        up_sampling1d_2[0][0]            \n",
      "__________________________________________________________________________________________________\n",
      "concatenate_2 (Concatenate)     (None, 180, 64)      0           conv1d_6[0][0]                   \n",
      "                                                                 conv1d_14[0][0]                  \n",
      "__________________________________________________________________________________________________\n",
      "conv1d_15 (Conv1D)              (None, 180, 32)      6176        concatenate_2[0][0]              \n",
      "__________________________________________________________________________________________________\n",
      "conv1d_16 (Conv1D)              (None, 180, 128)     12416       conv1d_15[0][0]                  \n",
      "__________________________________________________________________________________________________\n",
      "lstm_3 (LSTM)                   (None, 180, 256)     394240      conv1d_16[0][0]                  \n",
      "__________________________________________________________________________________________________\n",
      "lstm_4 (LSTM)                   (None, 180, 512)     1574912     lstm_3[0][0]                     \n",
      "__________________________________________________________________________________________________\n",
      "flatten_2 (Flatten)             (None, 92160)        0           lstm_4[0][0]                     \n",
      "__________________________________________________________________________________________________\n",
      "dense_2 (Dense)                 (None, 27)           2488347     flatten_2[0][0]                  \n",
      "==================================================================================================\n",
      "Total params: 4,635,675\n",
      "Trainable params: 4,635,675\n",
      "Non-trainable params: 0\n",
      "__________________________________________________________________________________________________\n",
      "None\n"
     ]
    },
    {
     "name": "stderr",
     "output_type": "stream",
     "text": [
      "/home/renjie/anaconda3/lib/python3.6/site-packages/ipykernel_launcher.py:131: UserWarning: Update your `Model` call to the Keras 2 API: `Model(name=\"UNet_LSTM\", inputs=Tensor(\"in..., outputs=Tensor(\"de...)`\n"
     ]
    }
   ],
   "source": [
    "# model = conv_LSTM2()\n",
    "model = UNet_LSTM()"
   ]
  },
  {
   "cell_type": "code",
   "execution_count": 24,
   "metadata": {},
   "outputs": [],
   "source": [
    "LOG_DIR = os.path.join(os.getcwd(), 'logs')\n",
    "tb = TensorBoard(LOG_DIR)\n",
    "\n",
    "weights_dir = 'weights/' + model.name + \\\n",
    "            '-{epoch:02d}-{loss:.2f}.hdf5'\n",
    "chkpt = ModelCheckpoint(filepath=weights_dir, monitor='val_acc', save_best_only=True, save_weights_only=True, mode='auto', period=1)\n",
    "\n",
    "early_stop = EarlyStopping(monitor='val_acc', min_delta=0, patience=10)"
   ]
  },
  {
   "cell_type": "code",
   "execution_count": 25,
   "metadata": {
    "scrolled": false
   },
   "outputs": [
    {
     "name": "stdout",
     "output_type": "stream",
     "text": [
      "Train on 431 samples, validate on 430 samples\n",
      "Epoch 1/50\n",
      "431/431 [==============================] - 353s 819ms/step - loss: 3.1352 - acc: 0.1369 - val_loss: 2.0074 - val_acc: 0.5209\n",
      "Epoch 2/50\n",
      "431/431 [==============================] - 376s 872ms/step - loss: 1.8198 - acc: 0.4872 - val_loss: 1.2760 - val_acc: 0.6256\n",
      "Epoch 3/50\n",
      "431/431 [==============================] - 399s 925ms/step - loss: 0.9910 - acc: 0.7007 - val_loss: 1.1047 - val_acc: 0.6814\n",
      "Epoch 4/50\n",
      "431/431 [==============================] - 394s 915ms/step - loss: 0.6082 - acc: 0.8074 - val_loss: 1.1402 - val_acc: 0.7140\n",
      "Epoch 5/50\n",
      "431/431 [==============================] - 437s 1s/step - loss: 0.4355 - acc: 0.8608 - val_loss: 1.2219 - val_acc: 0.6791\n",
      "Epoch 6/50\n",
      "431/431 [==============================] - 413s 957ms/step - loss: 0.3727 - acc: 0.8794 - val_loss: 1.2195 - val_acc: 0.7372\n",
      "Epoch 7/50\n",
      "431/431 [==============================] - 404s 938ms/step - loss: 0.3043 - acc: 0.9165 - val_loss: 1.1649 - val_acc: 0.7419\n",
      "Epoch 8/50\n",
      "431/431 [==============================] - 418s 969ms/step - loss: 0.2123 - acc: 0.9304 - val_loss: 1.3335 - val_acc: 0.7279\n",
      "Epoch 9/50\n",
      "431/431 [==============================] - 364s 845ms/step - loss: 0.2125 - acc: 0.9211 - val_loss: 1.3385 - val_acc: 0.7279\n",
      "Epoch 10/50\n",
      "431/431 [==============================] - 352s 818ms/step - loss: 0.1002 - acc: 0.9722 - val_loss: 1.3741 - val_acc: 0.7279\n",
      "Epoch 11/50\n",
      "431/431 [==============================] - 375s 870ms/step - loss: 0.1351 - acc: 0.9536 - val_loss: 1.5728 - val_acc: 0.7395\n",
      "Epoch 12/50\n",
      "431/431 [==============================] - 330s 765ms/step - loss: 0.1573 - acc: 0.9490 - val_loss: 1.5729 - val_acc: 0.7116\n",
      "Epoch 13/50\n",
      "431/431 [==============================] - 364s 845ms/step - loss: 0.1729 - acc: 0.9466 - val_loss: 1.6221 - val_acc: 0.7116\n",
      "Epoch 14/50\n",
      "431/431 [==============================] - 362s 840ms/step - loss: 0.1293 - acc: 0.9582 - val_loss: 1.7729 - val_acc: 0.7209\n",
      "Epoch 15/50\n",
      "431/431 [==============================] - 366s 848ms/step - loss: 0.0694 - acc: 0.9768 - val_loss: 1.7897 - val_acc: 0.6930\n",
      "Epoch 16/50\n",
      "431/431 [==============================] - 365s 847ms/step - loss: 0.0678 - acc: 0.9768 - val_loss: 1.6450 - val_acc: 0.7326\n",
      "Epoch 17/50\n",
      "431/431 [==============================] - 344s 799ms/step - loss: 0.0563 - acc: 0.9814 - val_loss: 1.9286 - val_acc: 0.6512\n"
     ]
    }
   ],
   "source": [
    "history = model.fit(X_train, Y_train, epochs=50, batch_size=3, validation_data = (X_test, Y_test), callbacks=[tb, chkpt, early_stop])"
   ]
  },
  {
   "cell_type": "markdown",
   "metadata": {},
   "source": [
    "# Evaluation"
   ]
  },
  {
   "cell_type": "code",
   "execution_count": 26,
   "metadata": {},
   "outputs": [
    {
     "data": {
      "image/png": "[encoded data removed]",
      "text/plain": [
       "<Figure size 432x288 with 1 Axes>"
      ]
     },
     "metadata": {},
     "output_type": "display_data"
    },
    {
     "data": {
      "text/plain": [
       "<Figure size 432x288 with 0 Axes>"
      ]
     },
     "metadata": {},
     "output_type": "display_data"
    }
   ],
   "source": [
    "train_acc = history.history['acc']\n",
    "val_acc = history.history['val_acc']\n",
    "plt.plot(train_acc, 'C0')\n",
    "plt.plot(val_acc, 'C1')\n",
    "plt.show()\n",
    "plt.savefig('UNet_LSTM_acc_plot_iner_skel.png')"
   ]
  },
  {
   "cell_type": "code",
   "execution_count": 27,
   "metadata": {},
   "outputs": [
    {
     "data": {
      "image/png": "[encoded data removed]",
      "text/plain": [
       "<Figure size 432x288 with 1 Axes>"
      ]
     },
     "metadata": {},
     "output_type": "display_data"
    },
    {
     "data": {
      "text/plain": [
       "<Figure size 432x288 with 0 Axes>"
      ]
     },
     "metadata": {},
     "output_type": "display_data"
    }
   ],
   "source": [
    "train_acc = history.history['loss']\n",
    "val_acc = history.history['val_loss']\n",
    "plt.plot(train_acc, 'C0')\n",
    "plt.plot(val_acc, 'C1')\n",
    "plt.show()\n",
    "plt.savefig('UNet_LSTM_loss_plot_iner_skel.png')"
   ]
  },
  {
   "cell_type": "code",
   "execution_count": 34,
   "metadata": {
    "scrolled": true
   },
   "outputs": [
    {
     "name": "stdout",
     "output_type": "stream",
     "text": [
      "_________________________________________________________________\n",
      "Layer (type)                 Output Shape              Param #   \n",
      "=================================================================\n",
      "conv1d_17 (Conv1D)           (None, 180, 16)           3184      \n",
      "_________________________________________________________________\n",
      "conv1d_18 (Conv1D)           (None, 180, 32)           1568      \n",
      "_________________________________________________________________\n",
      "max_pooling1d_5 (MaxPooling1 (None, 90, 32)            0         \n",
      "_________________________________________________________________\n",
      "conv1d_19 (Conv1D)           (None, 90, 64)            6208      \n",
      "_________________________________________________________________\n",
      "conv1d_20 (Conv1D)           (None, 90, 128)           24704     \n",
      "_________________________________________________________________\n",
      "max_pooling1d_6 (MaxPooling1 (None, 45, 128)           0         \n",
      "_________________________________________________________________\n",
      "lstm_5 (LSTM)                (None, 45, 256)           394240    \n",
      "_________________________________________________________________\n",
      "lstm_6 (LSTM)                (None, 45, 512)           1574912   \n",
      "_________________________________________________________________\n",
      "flatten_3 (Flatten)          (None, 23040)             0         \n",
      "_________________________________________________________________\n",
      "dropout_3 (Dropout)          (None, 23040)             0         \n",
      "_________________________________________________________________\n",
      "dense_3 (Dense)              (None, 27)                622107    \n",
      "=================================================================\n",
      "Total params: 2,626,923\n",
      "Trainable params: 2,626,923\n",
      "Non-trainable params: 0\n",
      "_________________________________________________________________\n",
      "None\n",
      "__________________________________________________________________________________________________\n",
      "Layer (type)                    Output Shape         Param #     Connected to                     \n",
      "==================================================================================================\n",
      "input_2 (InputLayer)            (None, 180, 66)      0                                            \n",
      "__________________________________________________________________________________________________\n",
      "conv1d_21 (Conv1D)              (None, 180, 32)      6368        input_2[0][0]                    \n",
      "__________________________________________________________________________________________________\n",
      "conv1d_22 (Conv1D)              (None, 180, 32)      3104        conv1d_21[0][0]                  \n",
      "__________________________________________________________________________________________________\n",
      "max_pooling1d_7 (MaxPooling1D)  (None, 90, 32)       0           conv1d_22[0][0]                  \n",
      "__________________________________________________________________________________________________\n",
      "conv1d_23 (Conv1D)              (None, 90, 64)       6208        max_pooling1d_7[0][0]            \n",
      "__________________________________________________________________________________________________\n",
      "conv1d_24 (Conv1D)              (None, 90, 64)       12352       conv1d_23[0][0]                  \n",
      "__________________________________________________________________________________________________\n",
      "max_pooling1d_8 (MaxPooling1D)  (None, 45, 64)       0           conv1d_24[0][0]                  \n",
      "__________________________________________________________________________________________________\n",
      "conv1d_25 (Conv1D)              (None, 45, 128)      24704       max_pooling1d_8[0][0]            \n",
      "__________________________________________________________________________________________________\n",
      "conv1d_26 (Conv1D)              (None, 45, 128)      49280       conv1d_25[0][0]                  \n",
      "__________________________________________________________________________________________________\n",
      "dropout_4 (Dropout)             (None, 45, 128)      0           conv1d_26[0][0]                  \n",
      "__________________________________________________________________________________________________\n",
      "up_sampling1d_3 (UpSampling1D)  (None, 90, 128)      0           dropout_4[0][0]                  \n",
      "__________________________________________________________________________________________________\n",
      "conv1d_27 (Conv1D)              (None, 90, 64)       16448       up_sampling1d_3[0][0]            \n",
      "__________________________________________________________________________________________________\n",
      "concatenate_3 (Concatenate)     (None, 90, 128)      0           conv1d_24[0][0]                  \n",
      "                                                                 conv1d_27[0][0]                  \n",
      "__________________________________________________________________________________________________\n",
      "conv1d_28 (Conv1D)              (None, 90, 64)       24640       concatenate_3[0][0]              \n",
      "__________________________________________________________________________________________________\n",
      "conv1d_29 (Conv1D)              (None, 90, 64)       12352       conv1d_28[0][0]                  \n",
      "__________________________________________________________________________________________________\n",
      "up_sampling1d_4 (UpSampling1D)  (None, 180, 64)      0           conv1d_29[0][0]                  \n",
      "__________________________________________________________________________________________________\n",
      "conv1d_30 (Conv1D)              (None, 180, 32)      4128        up_sampling1d_4[0][0]            \n",
      "__________________________________________________________________________________________________\n",
      "concatenate_4 (Concatenate)     (None, 180, 64)      0           conv1d_22[0][0]                  \n",
      "                                                                 conv1d_30[0][0]                  \n",
      "__________________________________________________________________________________________________\n",
      "conv1d_31 (Conv1D)              (None, 180, 32)      6176        concatenate_4[0][0]              \n",
      "__________________________________________________________________________________________________\n",
      "conv1d_32 (Conv1D)              (None, 180, 128)     12416       conv1d_31[0][0]                  \n",
      "__________________________________________________________________________________________________\n",
      "lstm_7 (LSTM)                   (None, 180, 256)     394240      conv1d_32[0][0]                  \n",
      "__________________________________________________________________________________________________\n",
      "lstm_8 (LSTM)                   (None, 180, 512)     1574912     lstm_7[0][0]                     \n",
      "__________________________________________________________________________________________________\n",
      "flatten_4 (Flatten)             (None, 92160)        0           lstm_8[0][0]                     \n",
      "__________________________________________________________________________________________________\n",
      "dense_4 (Dense)                 (None, 27)           2488347     flatten_4[0][0]                  \n",
      "==================================================================================================\n",
      "Total params: 4,635,675\n",
      "Trainable params: 4,635,675\n",
      "Non-trainable params: 0\n",
      "__________________________________________________________________________________________________\n",
      "None\n"
     ]
    },
    {
     "name": "stderr",
     "output_type": "stream",
     "text": [
      "/home/renjie/anaconda3/lib/python3.6/site-packages/ipykernel_launcher.py:131: UserWarning: Update your `Model` call to the Keras 2 API: `Model(name=\"UNet_LSTM\", inputs=Tensor(\"in..., outputs=Tensor(\"de...)`\n"
     ]
    }
   ],
   "source": [
    "# ensemble\n",
    "model_1 = conv_LSTM2()\n",
    "model_2 = UNet_LSTM()"
   ]
  },
  {
   "cell_type": "code",
   "execution_count": 35,
   "metadata": {},
   "outputs": [],
   "source": [
    "model_1.load_weights('weights/combined_iner_skel/conv_LSTM2-13-0.27.hdf5')\n",
    "model_2.load_weights('weights/combined_iner_skel/UNet_LSTM-07-0.30.hdf5')"
   ]
  },
  {
   "cell_type": "code",
   "execution_count": 29,
   "metadata": {},
   "outputs": [
    {
     "name": "stdout",
     "output_type": "stream",
     "text": [
      "431/431 [==============================] - 12s 28ms/step\n"
     ]
    },
    {
     "data": {
      "text/plain": [
       "[0.04359209534237831, 0.988399071925754]"
      ]
     },
     "execution_count": 29,
     "metadata": {},
     "output_type": "execute_result"
    }
   ],
   "source": [
    "model.evaluate(X_train, Y_train)"
   ]
  },
  {
   "cell_type": "code",
   "execution_count": 30,
   "metadata": {},
   "outputs": [
    {
     "name": "stdout",
     "output_type": "stream",
     "text": [
      "430/430 [==============================] - 19s 43ms/step\n"
     ]
    },
    {
     "data": {
      "text/plain": [
       "[1.164892672660739, 0.74186046539351]"
      ]
     },
     "execution_count": 30,
     "metadata": {},
     "output_type": "execute_result"
    }
   ],
   "source": [
    "model.evaluate(X_test, Y_test)"
   ]
  },
  {
   "cell_type": "code",
   "execution_count": 43,
   "metadata": {},
   "outputs": [],
   "source": [
    "pred_1 = np.argmax(model.predict(X_test), axis = -1)\n",
    "\n",
    "# Ensemble\n",
    "# pred_1 = np.argmax((model_1.predict(X_test) + model_2.predict(X_test))/2,axis = -1)"
   ]
  },
  {
   "cell_type": "code",
   "execution_count": 32,
   "metadata": {},
   "outputs": [],
   "source": [
    "class_labels = ['swipe to the left',\n",
    "               'swipe to the right',\n",
    "               'wave',\n",
    "               'front clap',\n",
    "               'throw',\n",
    "               'cross arms',\n",
    "               'basketball shoot',\n",
    "               'draw x',\n",
    "               'draw circle (CW)',\n",
    "               'draw circle (CCW)',\n",
    "               'draw triangle',\n",
    "               'bowling',\n",
    "               'boxing',\n",
    "               'baseball swing',\n",
    "               'tennis swing',\n",
    "               'arm curl',\n",
    "               'tennis serve',\n",
    "               'two hand push',\n",
    "               'knock door',\n",
    "               'catch',\n",
    "               'pick and throw',\n",
    "               'jogging',\n",
    "               'walking',\n",
    "               'sit to stand',\n",
    "               'stand to sit',\n",
    "               'forward lunge',\n",
    "               'squat']"
   ]
  },
  {
   "cell_type": "code",
   "execution_count": 44,
   "metadata": {},
   "outputs": [
    {
     "data": {
      "image/png": "[encoded data removed]",
      "text/plain": [
       "<Figure size 864x864 with 1 Axes>"
      ]
     },
     "metadata": {},
     "output_type": "display_data"
    }
   ],
   "source": [
    "confusion_1 = confusion_matrix(np.argmax(Y_test, axis = -1), pred_1)\n",
    "NUM_LABELS = 27\n",
    "\n",
    "f, axes = plt.subplots(1,1, figsize = (12,12))\n",
    "axes.set_xlabel('Actual')\n",
    "axes.set_ylabel('Predicted')\n",
    "axes.grid(False)\n",
    "axes.set_xticklabels(class_labels, rotation = 90)\n",
    "axes.set_yticklabels(class_labels)\n",
    "axes.set_yticks(list(range(27)))\n",
    "axes.set_xticks(list(range(27)))\n",
    "plt.imshow(confusion_1, cmap=plt.cm.Set2, interpolation='nearest')\n",
    "\n",
    "for i, cas in enumerate(confusion_1):\n",
    "    for j, count in enumerate(cas):\n",
    "        if count > 0:\n",
    "            xoff = .07 * len(str(count))\n",
    "            plt.text(j-xoff, i+.2, int(count), fontsize=12, color='black')\n",
    "\n",
    "f.savefig('UNet_lstm_confusion_matrix_iner_skel.png')"
   ]
  },
  {
   "cell_type": "code",
   "execution_count": 42,
   "metadata": {},
   "outputs": [
    {
     "data": {
      "text/plain": [
       "0.8209302325581396"
      ]
     },
     "execution_count": 42,
     "metadata": {},
     "output_type": "execute_result"
    }
   ],
   "source": [
    "(pred_1 == np.argmax(Y_test,axis = -1)).sum()/ pred_1.size"
   ]
  },
  {
   "cell_type": "code",
   "execution_count": null,
   "metadata": {},
   "outputs": [],
   "source": []
  }
 ],
 "metadata": {
  "kernelspec": {
   "display_name": "Python 3",
   "language": "python",
   "name": "python3"
  },
  "language_info": {
   "codemirror_mode": {
    "name": "ipython",
    "version": 3
   },
   "file_extension": ".py",
   "mimetype": "text/x-python",
   "name": "python",
   "nbconvert_exporter": "python",
   "pygments_lexer": "ipython3",
   "version": "3.6.4"
  }
 },
 "nbformat": 4,
 "nbformat_minor": 2
}
